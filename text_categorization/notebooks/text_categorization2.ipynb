{
 "cells": [
  {
   "cell_type": "markdown",
   "metadata": {},
   "source": [
    "<h1 align=center style=\"line-height:200%;font-family:vazir;color:#0099cc\">\n",
    "<font face=\"arial\" color=\"#0099cc\">\n",
    "Web Page Categorization using Machine Learning\n",
    "</font>\n",
    "</h1>"
   ]
  },
  {
   "cell_type": "markdown",
   "metadata": {},
   "source": [
    "<h2 align=\"left\" style=\"line-height:200%;font-family:vazir;font-family:Arial;color:#0099cc\">\n",
    "<font face=\"Arial\" color=\"#0099cc\">\n",
    "Introduction and Problem Statement\n",
    "</font>\n",
    "</h2>\n",
    "\n",
    "\n",
    "<h4 align=\"left\">\n",
    "<font face=\"Arial\" >\n",
    "\n",
    "In this project, our objective is to classify websites based on their title, content, and other relevant factors. This task falls under the domain of classification.\n",
    "</font>\n",
    "</h4>\n"
   ]
  },
  {
   "cell_type": "markdown",
   "metadata": {},
   "source": [
    "<h2 align=\"left\" style=\"line-height:200%;font-family:vazir;font-family:Arial;color:#0099cc\">\n",
    "<font face=\"Arial\" color=\"#0099cc\">\n",
    "Importing Essential Libraries\n",
    "</font>\n",
    "</h2>"
   ]
  },
  {
   "cell_type": "code",
   "execution_count": 1,
   "metadata": {},
   "outputs": [],
   "source": [
    "import pandas as pd\n",
    "from sklearn.feature_extraction.text import CountVectorizer, TfidfTransformer\n",
    "from sklearn.pipeline import Pipeline\n",
    "from sklearn.preprocessing import LabelEncoder\n",
    "from sklearn.svm import LinearSVC\n",
    "from sklearn.ensemble import RandomForestClassifier, GradientBoostingClassifier\n",
    "from sklearn.linear_model import LogisticRegression\n",
    "from sklearn.neighbors import KNeighborsClassifier\n",
    "from sklearn.naive_bayes import MultinomialNB\n",
    "from sklearn.tree import DecisionTreeClassifier\n",
    "from sklearn.neural_network import MLPClassifier\n",
    "from sklearn.metrics import f1_score\n",
    "from sklearn.base import BaseEstimator, TransformerMixin\n",
    "from sklearn.model_selection import train_test_split\n",
    "from imblearn.over_sampling import RandomOverSampler\n",
    "from hazm import Normalizer, word_tokenize\n",
    "import string\n",
    "from stopwords_guilannlp import stopwords_output"
   ]
  },
  {
   "cell_type": "markdown",
   "metadata": {},
   "source": [
    "<h2 align=\"left\" style=\"line-height:200%;font-family:vazir;font-family:Arial;color:#0099cc\">\n",
    "<font face=\"Arial\" color=\"#0099cc\">\n",
    "Reading the Dataset and see some example\n",
    "</font>\n",
    "</h2>"
   ]
  },
  {
   "cell_type": "code",
   "execution_count": 2,
   "metadata": {},
   "outputs": [
    {
     "data": {
      "text/html": [
       "<div>\n",
       "<style scoped>\n",
       "    .dataframe tbody tr th:only-of-type {\n",
       "        vertical-align: middle;\n",
       "    }\n",
       "\n",
       "    .dataframe tbody tr th {\n",
       "        vertical-align: top;\n",
       "    }\n",
       "\n",
       "    .dataframe thead th {\n",
       "        text-align: right;\n",
       "    }\n",
       "</style>\n",
       "<table border=\"1\" class=\"dataframe\">\n",
       "  <thead>\n",
       "    <tr style=\"text-align: right;\">\n",
       "      <th></th>\n",
       "      <th>category</th>\n",
       "      <th>description</th>\n",
       "      <th>text_content</th>\n",
       "      <th>title</th>\n",
       "      <th>h1</th>\n",
       "      <th>h2</th>\n",
       "      <th>url</th>\n",
       "      <th>domain</th>\n",
       "      <th>id</th>\n",
       "    </tr>\n",
       "  </thead>\n",
       "  <tbody>\n",
       "    <tr>\n",
       "      <th>0</th>\n",
       "      <td>کتاب و ادبیات</td>\n",
       "      <td>از شوبنده ها: جستجو معنی \"از شوبنده ها\" در فره...</td>\n",
       "      <td>معنی از شوبنده ها | جدول یاب از شوبنده ها 381</td>\n",
       "      <td>معنی از شوبنده ها | جدول یاب</td>\n",
       "      <td>معنی از شوبنده ها</td>\n",
       "      <td>از شوبنده ها در معادل ابجد</td>\n",
       "      <td>jadvalyab.ir/search?q=%D8%A7%D8%B2+%D8%B4%D9%8...</td>\n",
       "      <td>jadvalyab.ir</td>\n",
       "      <td>158</td>\n",
       "    </tr>\n",
       "    <tr>\n",
       "      <th>1</th>\n",
       "      <td>تجارت و اقتصاد</td>\n",
       "      <td>بیت‌کوین کش یک ارز مجازی مشهور است و بیت‌کوین ...</td>\n",
       "      <td>عکس بیت‌کوین کش برای پروفایل عکس و والپیپرهای ...</td>\n",
       "      <td>عکس بیت‌کوین کش برای پروفایل</td>\n",
       "      <td>عکس بیت‌کوین کش برای پروفایل</td>\n",
       "      <td>عکس بیت کوین با کیفیت 4K عکس ارزهای دیجیتال عک...</td>\n",
       "      <td>jowhareh.com/photo/%D8%B9%DA%A9%D8%B3-%D8%A8%D...</td>\n",
       "      <td>jowhareh.com</td>\n",
       "      <td>3268</td>\n",
       "    </tr>\n",
       "    <tr>\n",
       "      <th>2</th>\n",
       "      <td>سلامت</td>\n",
       "      <td>نوبت دهی دکتر مهناز عابدینی متخصص رادیولوژی و ...</td>\n",
       "      <td>دکتر مهناز عابدینی متخصص رادیولوژی و سونوگرافی...</td>\n",
       "      <td>دکتر مهناز عابدینی متخصص رادیولوژی و سونوگرافی...</td>\n",
       "      <td>دکتر مهناز عابدینی</td>\n",
       "      <td>آدرس و تلفن دکتر مهناز عابدینی نظرات و تجربیات...</td>\n",
       "      <td>doctor-yab.ir/Search/14773/%D8%AF%DA%A9%D8%AA%...</td>\n",
       "      <td>doctor-yab.ir</td>\n",
       "      <td>175</td>\n",
       "    </tr>\n",
       "    <tr>\n",
       "      <th>3</th>\n",
       "      <td>تکنولوژی و کامپبوتر</td>\n",
       "      <td>نرم افزار Geph برای اندروید یک پلت‌فرم چندسکوی...</td>\n",
       "      <td>دانلود تحریم‌گذر Geph برای اندروید خانه/اندروی...</td>\n",
       "      <td>دانلود تحریم‌گذر Geph برای اندروید</td>\n",
       "      <td>دانلود تحریم‌گذر Geph برای اندروید</td>\n",
       "      <td>دانلود نرم افزار Geph</td>\n",
       "      <td>palexe.site/dl/geph-android/</td>\n",
       "      <td>palexe.site</td>\n",
       "      <td>3402</td>\n",
       "    </tr>\n",
       "    <tr>\n",
       "      <th>4</th>\n",
       "      <td>تکنولوژی و کامپبوتر</td>\n",
       "      <td>سری جدید تلویزیون‌های هوشمند سامسونگ که با نام...</td>\n",
       "      <td>ترفندهای پرکاربرد تلویزیون‌‌های هوشمند سامسونگ...</td>\n",
       "      <td>ترفندهای پرکاربرد تلویزیون‌‌های هوشمند سامسونگ...</td>\n",
       "      <td>ترفندهای پرکاربرد تلویزیون‌‌های هوشمند سامسونگ</td>\n",
       "      <td>راه‌اندازی تلویزیون همگام‌سازی کنترل اتصال به ...</td>\n",
       "      <td>rokhdadeghtesadi.ir/43874/</td>\n",
       "      <td>rokhdadeghtesadi.ir</td>\n",
       "      <td>3811</td>\n",
       "    </tr>\n",
       "  </tbody>\n",
       "</table>\n",
       "</div>"
      ],
      "text/plain": [
       "              category                                        description  \\\n",
       "0        کتاب و ادبیات  از شوبنده ها: جستجو معنی \"از شوبنده ها\" در فره...   \n",
       "1       تجارت و اقتصاد  بیت‌کوین کش یک ارز مجازی مشهور است و بیت‌کوین ...   \n",
       "2                سلامت  نوبت دهی دکتر مهناز عابدینی متخصص رادیولوژی و ...   \n",
       "3  تکنولوژی و کامپبوتر  نرم افزار Geph برای اندروید یک پلت‌فرم چندسکوی...   \n",
       "4  تکنولوژی و کامپبوتر  سری جدید تلویزیون‌های هوشمند سامسونگ که با نام...   \n",
       "\n",
       "                                        text_content  \\\n",
       "0      معنی از شوبنده ها | جدول یاب از شوبنده ها 381   \n",
       "1  عکس بیت‌کوین کش برای پروفایل عکس و والپیپرهای ...   \n",
       "2  دکتر مهناز عابدینی متخصص رادیولوژی و سونوگرافی...   \n",
       "3  دانلود تحریم‌گذر Geph برای اندروید خانه/اندروی...   \n",
       "4  ترفندهای پرکاربرد تلویزیون‌‌های هوشمند سامسونگ...   \n",
       "\n",
       "                                               title  \\\n",
       "0                       معنی از شوبنده ها | جدول یاب   \n",
       "1                       عکس بیت‌کوین کش برای پروفایل   \n",
       "2  دکتر مهناز عابدینی متخصص رادیولوژی و سونوگرافی...   \n",
       "3                 دانلود تحریم‌گذر Geph برای اندروید   \n",
       "4  ترفندهای پرکاربرد تلویزیون‌‌های هوشمند سامسونگ...   \n",
       "\n",
       "                                               h1  \\\n",
       "0                               معنی از شوبنده ها   \n",
       "1                    عکس بیت‌کوین کش برای پروفایل   \n",
       "2                              دکتر مهناز عابدینی   \n",
       "3              دانلود تحریم‌گذر Geph برای اندروید   \n",
       "4  ترفندهای پرکاربرد تلویزیون‌‌های هوشمند سامسونگ   \n",
       "\n",
       "                                                  h2  \\\n",
       "0                         از شوبنده ها در معادل ابجد   \n",
       "1  عکس بیت کوین با کیفیت 4K عکس ارزهای دیجیتال عک...   \n",
       "2  آدرس و تلفن دکتر مهناز عابدینی نظرات و تجربیات...   \n",
       "3                              دانلود نرم افزار Geph   \n",
       "4  راه‌اندازی تلویزیون همگام‌سازی کنترل اتصال به ...   \n",
       "\n",
       "                                                 url               domain  \\\n",
       "0  jadvalyab.ir/search?q=%D8%A7%D8%B2+%D8%B4%D9%8...         jadvalyab.ir   \n",
       "1  jowhareh.com/photo/%D8%B9%DA%A9%D8%B3-%D8%A8%D...         jowhareh.com   \n",
       "2  doctor-yab.ir/Search/14773/%D8%AF%DA%A9%D8%AA%...        doctor-yab.ir   \n",
       "3                       palexe.site/dl/geph-android/          palexe.site   \n",
       "4                         rokhdadeghtesadi.ir/43874/  rokhdadeghtesadi.ir   \n",
       "\n",
       "     id  \n",
       "0   158  \n",
       "1  3268  \n",
       "2   175  \n",
       "3  3402  \n",
       "4  3811  "
      ]
     },
     "execution_count": 2,
     "metadata": {},
     "output_type": "execute_result"
    }
   ],
   "source": [
    "train = pd.read_csv('../data/yektanet_train.csv')\n",
    "train.head()"
   ]
  },
  {
   "cell_type": "markdown",
   "metadata": {},
   "source": [
    "\n",
    "<h4 style=\"text-align: left; font-family: Arial;\">\n",
    "  <strong>Deleting useless features. </strong>\n",
    "</h4>"
   ]
  },
  {
   "cell_type": "code",
   "execution_count": 3,
   "metadata": {},
   "outputs": [],
   "source": [
    "train.drop(['id','domain','url'], axis=1, inplace=True)"
   ]
  },
  {
   "cell_type": "markdown",
   "metadata": {},
   "source": [
    "\n",
    "<h4 style=\"text-align: left; font-family: Arial;\">\n",
    "  <strong>Based on the following examples, we understand that the length of textt_content is very large and also contains some irrelevant information.so let's drop it</strong>\n",
    "</h4>\n"
   ]
  },
  {
   "cell_type": "code",
   "execution_count": 4,
   "metadata": {},
   "outputs": [
    {
     "name": "stdout",
     "output_type": "stream",
     "text": [
      "category: 19 : تکنولوژی و کامپبوتر\n",
      "description: 112 : نرم افزار Geph برای اندروید یک پلت‌فرم چندسکویی و فیلترشکنی با منبع باز است که می‌تواند دسترسی امن و مطمئن به اÛ\n",
      "text_content: 1920 : دانلود تحریم‌گذر Geph برای اندروید خانه/اندروید/دانلود تحریم‌گذر Geph برای اندروید اپلیکیشناندرویدتحریم‌گذر دانلود تحریم‌گذر Geph برای اندروید شاهین دانلود نرم افزار Geph نمایش لینک‌های دانلود نرم افزار Geph برای اندروید یک پلت‌فرم چندسکویی و فیلترشکنی با منبع باز است که می‌تواند دسترسی امن و مطمئن به اینترنت آزاد و بدون سانسور را فراهم کند. به گفته‌ی سازندگان نرم افزار گف:«بر خلاف فیلترشکن‌ها و پراکسی‌های سنتی، Geph به طوری طراحی شده تا حتی در برابر سیستم‌های بسیار قدرتمند سانسور نیز مقاوم باشد.» مقر اصلی شرکت فیلترشکن Geph در استونی است. این کشور یکی از حوزه‌های قضایی اتحادیه اروپا است که قوانین محکمی برای حفظ حریم خصوصی دارد. دانلود تحریم‌گذر ۱.۱.۱.۱ برای اندروید دانلود تحریم‌گذر Orbot برای اندروید دانلود تحریم‌گذر Proton VPN برای اندروید – پروتون وی پی ان + پرمیوم کرک شده دانلود تحریم‌گذر وی پی ان ملن Melon VPN برای اندروید + VIP کرک شده ‌ قبل از شروع دانلود امتیاز دهید: 4.2/5 - (141 امتیاز) لینک‌ها متغیر هستند. با ثبت امتیاز، لینک‌های دانلود پرسرعت بصورت خودکار تا پایان دانلود شما تمدید می‌شود و حذف نخواهد شد. در صورت عدم امتیازدهی ممکن است دانلود شما ناقص بماند و قطع شود. آموزش دانلود: بعد از ثبت امتیاز از طریق ستاره‌های بالا باید تک تک پارت‌ها را دانلود نمایید و پس از اتمام دانلود اکسترکت و شروع به نصب نمایید. توجه داشته باشید که پس از ورود به لینک دانلود هر پارت در آن صفحه چند ثانیه منتظر بمانید تا لینک پر سرعت برایتان ساخته شود. سپس روی لینک‌های دانلود یا باز کردن کلیک نمایید. فقط یک لینک معتبر است. حجم کل: 9 مگابایت لینک‌های دانلود:لینک دانلود نرم افزار گف برای اندرویدلینک دانلود سایر تحریم‌گذرها برای مواقعی که این نرم افزار در دسترس نیست پسورد: www.palex.in آموزش نصب: - اگر فایل با پسوند .apk دانود کردید، روی آن کلیک کنید و روی گزینه نصب کلیک کنید. نصب انجام می‌شود. - اگر فایل با پسوند .zip دانلود شد، ابتدا فایل را تغییر نام دهید و پسوند را به .apk تغییر دهید. حالا شروع به نصب کنید. شاهین فیس بوک توییتر لینکدین ‫تامبلر ‫پین‌ترست ‫رددیت ‫VKontakte اشتراک گذاری از طریق ایمیل چاپ\n",
      "title: 34 : دانلود تحریم‌گذر Geph برای اندروید\n",
      "h1: 34 : دانلود تحریم‌گذر Geph برای اندروید\n",
      "h2: 21 : دانلود نرم افزار Geph\n",
      "|||||||||||||||||||||||||||||||||\n",
      "category: 19 : تکنولوژی و کامپبوتر\n",
      "description: 184 : سری جدید تلویزیون‌های هوشمند سامسونگ که با نام QLED و به تازگی با سری Neo QLED عرضه شده، دارای کنترل هوشمندی است که نسبت به نسل‌های قبلی از طراحی مینیمال و ابعادی کوچک‌تر  بهره می‌برد.\n",
      "text_content: 4374 : ترفندهای پرکاربرد تلویزیون‌‌های هوشمند سامسونگ - رخداد اقتصادی مقالات ترفندهای پرکاربرد تلویزیون‌‌های هوشمند سامسونگ بوسیله عاطفه یاری در ۹ شهریور , ۱۴۰۱ ۱۵:۵۴ 0 سری جدید تلویزیون‌های هوشمند سامسونگ که با نام QLED و به تازگی با سری Neo QLED عرضه شده، دارای کنترل هوشمندی است که نسبت به نسل‌های قبلی از طراحی مینیمال و ابعادی کوچک‌تر بهره می‌برد. به گزارش پایگاه خبری رخداد اقتصادی؛ تلویزیون‌های هوشمند امروزی حالا دیگر تنها وسیله‌ای صرفا برای پخش فیلم و سریال نیست و این دستگاه‌ها با اتصال به شبکه اینترنت و امکان نصب اپلیکیشن‌های مختلف، کاربردهایی جدید و موثر در زندگی کاربران خود پیدا کرده است. در این شرایط آگاهی از یکسری نکته‌ها و ترفندهای پرکاربرد تلویزیون‌‌های هوشمند سامسونگ به کمک کاربران این دستگاه‌ها می‌آید تا ضمن تجربه‌ای راحت از کار با منوها و قابلیت‌ها، بهره‌وری کامل‌تری از تلویزیون و فناوری‌های پیشرفته آن داشته باشند. در ادامه می‌توانید بخشی از این ترفندها و نکته‌های مهم را بیابید. راه‌اندازی تلویزیون زمانی که به تازگی یکی از تلویزیون‌های سامسونگ را به خانه خود می‌آورید و یا مجبور به ریست کردن تنظیمات آن می‌شوید، می‌بایست مراحلی را برای راه‌اندازی تلویزیون انجام دهید تا بتوانید از قابلیت‌های آن به شکل کامل و جامع بهره ببرید: همگام‌سازی کنترل سری جدید تلویزیون‌های هوشمند سامسونگ که با نام QLED و به تازگی با سری Neo QLED عرضه شده، دارای کنترل هوشمندی است که نسبت به نسل‌های قبلی از طراحی مینیمال و ابعادی کوچک‌تر بهره می‌برد. وقتی برای اولین بار تلویزیون‌ را روشن می‌کنید، کنترل آن به طور خودکار با آن همگام می‌شود، اما چنانچه این اتفاق رخ نداد، ابتدا کنترل را جلوی تلویزیون گرفته و سپس به طور همزمان دکمه‌های Back و Play/Pause را فشار دهید. اتصال به اینترنت یکی از مراحلی که در زمان راه‌اندازی اولیه تلویزیون خود بایستی انجام می‌دهید اتصال به شبکه اینترنت است. اتصال بی‌سیم تلویزیون‌های هوشمند سامسونگ به راحتی و با وارد کردن نام و رمز عبور شبکه وای‌فای خانگی‌تان انجام می‌شود. به منظور اتصال پایدارتر و سریع‌تر نیز امکان بهره‌مندی از سیم یا کابل را خواهید داشت. برای این کار دو راهکار اتصال از طریق One Connect Box یا اتصال کابل به پشت تلویزیون در دسترس کاربران قرار گرفته است. به همین منظور در منوی Network Type گزینه Wired را انتخاب کرده و کمی صبر کنید تا اتصال به اینترنت کامل شود، پس از آن تلویزیون شما به سرورهای سامسونگ دسترسی پیدا خواهد کرد. برای اتمام مراحل بر روی گزینه Ok کلیک کنید. اتصال دستگاه‌ها پس از راه‌اندازی تلویزیون می‌توانید دستگاه‌های جانبی خود مثل پخش‌کننده بلو-ری، کنسول بازی، ساندبار و لپ‌تاپ را به تلویزیون متصل کنید. در برخی از مدل‌های تلویزیون‌‌های هوشمند سامسونگ، دستگاه One Connect box وجود دارد که نظم و سیمای خلوتی به فضای اطراف تلویزیون می‌بخشد. از طریق این دستگاه‌ دیگر نیازی به کابل‌های متعدد نیست و تمامی دستگاه‌ها از طریق یک کابل به تلویزیون وصل می‌شود. همچنین کنترل هوشمند تلویزیون‌های نسل جدید سامسونگ امکان کنترل دستگاه‌های سازگار با خود را فراهم می‌کند. اتصال SmartThings SmartThings برنامه اختصاصی سامسونگ برای کنترل همه‌جانبه دستگاه‌های هوشمند خانه از جمله تلویزیون است که برای گوشی‌های اندروید و iOS در دسترس است. تلویزیون‌های هوشمند سامسونگ که از سال 2016 به بعد تولید شده‌اند با این برنامه سازگارند و به آن متصل می‌شود. برای استفاده از امکانات این برنامه در تلویزیون خانه خود کافیست مراحل زیر را انجام دهید: تلویزیون هوشمند سامسونگ و دستگاه (گوشی یا تبلت) خود را به یک شبکه وای‌فای یکسان متصل کنید اپلیکیشن SmartThings را دانلود کرده و آن را روی دستگاه خود نصب کنید (در صورت استفاده از گوشی‌های گلکسی این برنامه احتمالا به طور پیش‌فرض نصب است) در اپلیکیشن SmartThings بر روی گزینه افزودن که با آیکون + مشخص شده، ضربه بزنید تلویزیون خانه خود را انتخاب کرده یا در صورت نیاز آن را اسکن کنید تلویزیون شما اکنون به SmartThings متصل است و می‌توانید از گوشی یا تبلت خود به عنوان کنترل دوم تلویزیون استفاده کنید. برای دسترسی به قابلیت‌های بیشتر در منوی اپلیکیشن بخش گزینه‌های بیشتر (More Options) را که با آیکون سه نقطه عمودی مشخص شده، لمس کنید. در این بخش می‌توانید از قابلیت‌های کاربردی Smart View و Mirror Screens برای نمایش صفحه گوشی در تلویزیون یا بالعکس بهره ببرید. فعال کردن Input Signal Plus کیفیت تصویر تلویزیون‌های سامسونگ برای داشتن یک تجربه دیدنی و جذاب از بازی، به طور پیش‌فرض مطلوب است اما برای بهتر کردن همین میزان از کیفیت هم راهکارهایی وجود دارد تا سطح آن را به مرحله‌ای عالی برسانید. برای این کار لازم است تا قابلیت Input Signal Plus را فعال کنید و با افزایش دامنه سیگنال ورودی اتصالات HDMI خود را در اتفاقات بازی غرق کنید. ادامه مطلب تلویزیون سامسونگتلویزیون‌‌های هوشمندتلویزیون‌‌های هوشمند سامسونگتنظیمات تلویزیون سامسونگ 0 به اشتراک گذاری FacebookTwitterTelegramWhatsAppLinkedinپست الکترونیک\n",
      "title: 62 : ترفندهای پرکاربرد تلویزیون‌‌های هوشمند سامسونگ - رخداد اقتصادی\n",
      "h1: 46 : ترفندهای پرکاربرد تلویزیون‌‌های هوشمند سامسونگ\n",
      "h2: 115 : راه‌اندازی تلویزیون همگام‌سازی کنترل اتصال به اینترنت اتصال دستگاه‌ها اتصال SmartThings فعال کردن Input Signal Plus\n",
      "|||||||||||||||||||||||||||||||||\n",
      "category: 13 : کتاب و ادبیات\n",
      "description: 53 : شنیدن و دانلود رایگان تلفظ کلمه ی غم در سامانه ی تسدا\n",
      "text_content: 1157 : تلفظ کلمه ی غم | تسدا مجموعه تلفظ صوتی کلمات فارسی ورود به سایت ثبت نام دانلود نرم افزار دسته بندی ها جستجو کاربران جدیدترین تلفظ ها افزودن صدا صفحه اصلی تلفظ کلمه ی غم تلفظ صوتی غم بیان شده توسط saeid شنیدن تلفظ صوتی کلمه ی غم امتیاز 0 تلفظ صوتی کلمه ی غم تلفظ های صوتی کلمه ی غم که توسط کاربران مختلف ضبط شده رو می تونید گوش بدید و آموزش ببینید. در صورت تمایل شما هم میتونید با صدای خودتون کلمه ی غم رو تلفظ کنید و در اختیار دیگران قرار بدید. هدف ما آموزش تلفظ صحیح کلمه ی غم به کودکان و افراد علاقه مند به یادگیری زبان فارسی هست. در صورتی که شما با زبان فارسی آشنایی دارید، میتونید به تلفظ های ضبط شده برای کلمه ی غم امتیاز بدید تا افراد علاقه مند به یادگیری ، آسون تر بتونن بهترین تلفظ های صوتی ضبط شده رو پیدا کنن و با خیال راحت آموزش ببینن. تلفظ صحیح کلمات دیگر را نیز آموزش ببینید دسته بندی عواطف و احساسات تلفظ صوتی کلمه غمتلفظ صوتی کلمه خرسندیتلفظ صوتی کلمه خوشحالتلفظ صوتی کلمه نفرتتلفظ صوتی کلمه واهمهتلفظ صوتی کلمه سرزندهتلفظ صوتی کلمه قدرتمندیتلفظ صوتی کلمه تشکرتلفظ صوتی کلمه نگرانتلفظ صوتی کلمه خوشحالی سامانه اسم یاب تسدا درباره برنامه قوانین استفاده از برنامه سوالات متداول تماس با ما پارسی English کلیه حقوق این وب سایت برای تسدا محفوظ است\n",
      "title: 21 : تلفظ کلمه ی غم | تسدا\n",
      "h1: 14 : تلفظ کلمه ی غم\n",
      "h2: 28 : مجموعه تلفظ صوتی کلمات فارسی\n",
      "|||||||||||||||||||||||||||||||||\n"
     ]
    }
   ],
   "source": [
    "for i in range(3,6):\n",
    "    for column_name in train.columns:\n",
    "        field = train.loc[i, column_name]\n",
    "        print(f\"{column_name}: {len(field)} : {field}\")\n",
    "    print('|||||||||||||||||||||||||||||||||')"
   ]
  },
  {
   "cell_type": "code",
   "execution_count": 5,
   "metadata": {},
   "outputs": [],
   "source": [
    "train.drop(['text_content'], axis=1, inplace=True)"
   ]
  },
  {
   "cell_type": "markdown",
   "metadata": {},
   "source": [
    "\n",
    "<h2 align=\"left\" style=\"line-height:200%;font-family:vazir;font-family:Arial;color:#0099cc\">\n",
    "<font face=\"Arial\" color=\"#0099cc\">\n",
    "Preprocessing the data.\n",
    "</font>\n",
    "</h2>"
   ]
  },
  {
   "cell_type": "markdown",
   "metadata": {},
   "source": [
    "\n",
    "<h4 style=\"text-align: left; font-family: Arial;\">\n",
    "  <strong>The classes are highly unbalanced, so we balance them.</strong>\n",
    "</h4>\n"
   ]
  },
  {
   "cell_type": "code",
   "execution_count": 6,
   "metadata": {},
   "outputs": [
    {
     "data": {
      "text/plain": [
       "22"
      ]
     },
     "execution_count": 6,
     "metadata": {},
     "output_type": "execute_result"
    }
   ],
   "source": [
    "train['category'].value_counts().count()"
   ]
  },
  {
   "cell_type": "code",
   "execution_count": 7,
   "metadata": {},
   "outputs": [
    {
     "data": {
      "text/plain": [
       "سلامت                  614\n",
       "ورزش                   514\n",
       "حقوق و دولت و سیاست    486\n",
       "هنر و سرگرمی           410\n",
       "موسیقی                 314\n",
       "تکنولوژی و کامپبوتر    287\n",
       "تجارت و اقتصاد         283\n",
       "فیلم و سینما           239\n",
       "خودرو                  237\n",
       "اجتماعی                209\n",
       "سفر و گردشگری          182\n",
       "غذا و نوشیدنی          171\n",
       "مذهبی                  160\n",
       "مسکن                   131\n",
       "خانه و باغبانی         128\n",
       "مد و زیبایی            118\n",
       "کتاب و ادبیات           83\n",
       "تحصیلات                 79\n",
       "اشتغال                  47\n",
       "علم و دانش              34\n",
       "خانواده                 34\n",
       "حیوانات خانگی           29\n",
       "Name: category, dtype: int64"
      ]
     },
     "execution_count": 7,
     "metadata": {},
     "output_type": "execute_result"
    }
   ],
   "source": [
    "train['category'].value_counts()"
   ]
  },
  {
   "cell_type": "code",
   "execution_count": 8,
   "metadata": {},
   "outputs": [],
   "source": [
    "X_train = train.drop(columns=['category'])\n",
    "y_train = train['category']"
   ]
  },
  {
   "cell_type": "code",
   "execution_count": 9,
   "metadata": {},
   "outputs": [],
   "source": [
    "ros = RandomOverSampler(random_state=0)\n",
    "data_resampled, targets_resampled = ros.fit_resample(X_train, y_train)"
   ]
  },
  {
   "cell_type": "code",
   "execution_count": 10,
   "metadata": {},
   "outputs": [
    {
     "data": {
      "text/plain": [
       "کتاب و ادبیات          614\n",
       "تجارت و اقتصاد         614\n",
       "اشتغال                 614\n",
       "خانواده                614\n",
       "علم و دانش             614\n",
       "تحصیلات                614\n",
       "موسیقی                 614\n",
       "خانه و باغبانی         614\n",
       "هنر و سرگرمی           614\n",
       "سفر و گردشگری          614\n",
       "فیلم و سینما           614\n",
       "مذهبی                  614\n",
       "اجتماعی                614\n",
       "مد و زیبایی            614\n",
       "خودرو                  614\n",
       "مسکن                   614\n",
       "حقوق و دولت و سیاست    614\n",
       "غذا و نوشیدنی          614\n",
       "ورزش                   614\n",
       "تکنولوژی و کامپبوتر    614\n",
       "سلامت                  614\n",
       "حیوانات خانگی          614\n",
       "Name: category, dtype: int64"
      ]
     },
     "execution_count": 10,
     "metadata": {},
     "output_type": "execute_result"
    }
   ],
   "source": [
    "targets_resampled.value_counts()"
   ]
  },
  {
   "cell_type": "markdown",
   "metadata": {},
   "source": [
    "\n",
    "<h4 style=\"text-align: left; font-family: Arial;\">\n",
    "  <strong>hazm is a popular Persian language processing (NLP) library that provides tools for tokenization, stemming, and normalization of Persian text.\n",
    "  We will use the hazm library and related libraries for preprocessing.</strong>\n",
    "</h4>\n"
   ]
  },
  {
   "cell_type": "code",
   "execution_count": 11,
   "metadata": {},
   "outputs": [],
   "source": [
    "persian_stopwords = stopwords_output(\"Persian\", \"nar\")"
   ]
  },
  {
   "cell_type": "code",
   "execution_count": 12,
   "metadata": {},
   "outputs": [],
   "source": [
    "normalizer = Normalizer()\n",
    "def preprocessor(input):\n",
    "    punc_removed = input.translate(str.maketrans('', '', string.punctuation))\n",
    "    normalized = normalizer.normalize(punc_removed)\n",
    "    tokens = word_tokenize(normalized)\n",
    "    filtered = []\n",
    "    for token in tokens:\n",
    "        token = str(token)\n",
    "        token = token.lower()\n",
    "        if not token in persian_stopwords and not token.isdigit():\n",
    "            filtered.append(token)\n",
    "    output = ' '.join(filtered)\n",
    "    return output"
   ]
  },
  {
   "cell_type": "code",
   "execution_count": 13,
   "metadata": {},
   "outputs": [],
   "source": [
    "def tokenizer(text):\n",
    "    return word_tokenize(text)"
   ]
  },
  {
   "cell_type": "markdown",
   "metadata": {},
   "source": [
    "\n",
    "<h4 style=\"text-align: left; font-family: Arial;\">\n",
    "  <strong>Example of preprocessor and word_tokenize</strong>\n",
    "</h4>"
   ]
  },
  {
   "cell_type": "code",
   "execution_count": 14,
   "metadata": {},
   "outputs": [
    {
     "name": "stdout",
     "output_type": "stream",
     "text": [
      "آدرس و تلفن دکتر مهناز عابدینی نظرات و تجربیات در مورد دکتر مهناز عابدینی\n",
      "آدرس تلفن دکتر مهناز عابدینی نظرات تجربیات دکتر مهناز عابدینی\n",
      "['آدرس', 'تلفن', 'دکتر', 'مهناز', 'عابدینی', 'نظرات', 'تجربیات', 'دکتر', 'مهناز', 'عابدینی']\n"
     ]
    }
   ],
   "source": [
    "print(train.h2[2])\n",
    "print(preprocessor(train.h2[2]))\n",
    "print(tokenizer(preprocessor(train.h2[2])))"
   ]
  },
  {
   "cell_type": "markdown",
   "metadata": {},
   "source": [
    "\n",
    "<h2 align=\"left\" style=\"line-height:200%;font-family:vazir;font-family:Arial;color:#0099cc\">\n",
    "<font face=\"Arial\" color=\"#0099cc\">\n",
    "Let's build our mode\n",
    "</font>\n",
    "</h2>"
   ]
  },
  {
   "cell_type": "markdown",
   "metadata": {},
   "source": [
    "\n",
    "<h4 style=\"text-align: left; font-family: Arial;\">\n",
    "  <strong>Trying Different Algorithms to Achieve Desired Results</strong>\n",
    "</h4>\n"
   ]
  },
  {
   "cell_type": "code",
   "execution_count": 15,
   "metadata": {},
   "outputs": [
    {
     "name": "stderr",
     "output_type": "stream",
     "text": [
      "c:\\Users\\Asus\\Desktop\\test\\envq\\lib\\site-packages\\sklearn\\feature_extraction\\text.py:528: UserWarning: The parameter 'token_pattern' will not be used since 'tokenizer' is not None'\n",
      "  warnings.warn(\n"
     ]
    },
    {
     "name": "stdout",
     "output_type": "stream",
     "text": [
      "Classifier: LinearSVC\n",
      "F1 Score: 0.9670\n",
      "\n"
     ]
    },
    {
     "name": "stderr",
     "output_type": "stream",
     "text": [
      "c:\\Users\\Asus\\Desktop\\test\\envq\\lib\\site-packages\\sklearn\\feature_extraction\\text.py:528: UserWarning: The parameter 'token_pattern' will not be used since 'tokenizer' is not None'\n",
      "  warnings.warn(\n"
     ]
    },
    {
     "name": "stdout",
     "output_type": "stream",
     "text": [
      "Classifier: RandomForest\n",
      "F1 Score: 0.9588\n",
      "\n"
     ]
    },
    {
     "name": "stderr",
     "output_type": "stream",
     "text": [
      "c:\\Users\\Asus\\Desktop\\test\\envq\\lib\\site-packages\\sklearn\\feature_extraction\\text.py:528: UserWarning: The parameter 'token_pattern' will not be used since 'tokenizer' is not None'\n",
      "  warnings.warn(\n"
     ]
    },
    {
     "name": "stdout",
     "output_type": "stream",
     "text": [
      "Classifier: GradientBoosting\n",
      "F1 Score: 0.9536\n",
      "\n"
     ]
    },
    {
     "name": "stderr",
     "output_type": "stream",
     "text": [
      "c:\\Users\\Asus\\Desktop\\test\\envq\\lib\\site-packages\\sklearn\\feature_extraction\\text.py:528: UserWarning: The parameter 'token_pattern' will not be used since 'tokenizer' is not None'\n",
      "  warnings.warn(\n"
     ]
    },
    {
     "name": "stdout",
     "output_type": "stream",
     "text": [
      "Classifier: LogisticRegression\n",
      "F1 Score: 0.9434\n",
      "\n"
     ]
    },
    {
     "name": "stderr",
     "output_type": "stream",
     "text": [
      "c:\\Users\\Asus\\Desktop\\test\\envq\\lib\\site-packages\\sklearn\\feature_extraction\\text.py:528: UserWarning: The parameter 'token_pattern' will not be used since 'tokenizer' is not None'\n",
      "  warnings.warn(\n"
     ]
    },
    {
     "name": "stdout",
     "output_type": "stream",
     "text": [
      "Classifier: KNeighbors\n",
      "F1 Score: 0.7354\n",
      "\n"
     ]
    },
    {
     "name": "stderr",
     "output_type": "stream",
     "text": [
      "c:\\Users\\Asus\\Desktop\\test\\envq\\lib\\site-packages\\sklearn\\feature_extraction\\text.py:528: UserWarning: The parameter 'token_pattern' will not be used since 'tokenizer' is not None'\n",
      "  warnings.warn(\n"
     ]
    },
    {
     "name": "stdout",
     "output_type": "stream",
     "text": [
      "Classifier: MultinomialNB\n",
      "F1 Score: 0.9166\n",
      "\n"
     ]
    },
    {
     "name": "stderr",
     "output_type": "stream",
     "text": [
      "c:\\Users\\Asus\\Desktop\\test\\envq\\lib\\site-packages\\sklearn\\feature_extraction\\text.py:528: UserWarning: The parameter 'token_pattern' will not be used since 'tokenizer' is not None'\n",
      "  warnings.warn(\n"
     ]
    },
    {
     "name": "stdout",
     "output_type": "stream",
     "text": [
      "Classifier: DecisionTree\n",
      "F1 Score: 0.9419\n",
      "\n"
     ]
    },
    {
     "name": "stderr",
     "output_type": "stream",
     "text": [
      "c:\\Users\\Asus\\Desktop\\test\\envq\\lib\\site-packages\\sklearn\\feature_extraction\\text.py:528: UserWarning: The parameter 'token_pattern' will not be used since 'tokenizer' is not None'\n",
      "  warnings.warn(\n"
     ]
    },
    {
     "name": "stdout",
     "output_type": "stream",
     "text": [
      "Classifier: MLPClassifier\n",
      "F1 Score: 0.9693\n",
      "\n"
     ]
    }
   ],
   "source": [
    "classifiers = [\n",
    "    ('LinearSVC', LinearSVC(loss='hinge', penalty='l2', max_iter=5000)),\n",
    "    ('RandomForest', RandomForestClassifier()),\n",
    "    ('GradientBoosting', GradientBoostingClassifier()),\n",
    "    ('LogisticRegression', LogisticRegression(max_iter=5000)),\n",
    "    ('KNeighbors', KNeighborsClassifier()),\n",
    "    ('MultinomialNB', MultinomialNB()),\n",
    "    ('DecisionTree', DecisionTreeClassifier()),\n",
    "    ('MLPClassifier', MLPClassifier(max_iter=500))\n",
    "]\n",
    "\n",
    "class ColumnConcatenator(BaseEstimator, TransformerMixin):\n",
    "    def __init__(self, columns):\n",
    "        self.columns = columns\n",
    "    \n",
    "    def fit(self, X, y=None):\n",
    "        return self\n",
    "    \n",
    "    def transform(self, X):\n",
    "        return X[self.columns[0]].astype(str) + ' ' + X[self.columns[1]].astype(str) +X[self.columns[2]].astype(str)+X[self.columns[3]].astype(str)\n",
    "encoder = LabelEncoder()\n",
    "y_train = encoder.fit_transform(targets_resampled)\n",
    "\n",
    "X_train, X_test, y_train, y_test = train_test_split(data_resampled[['title', 'h1','description','h2']], targets_resampled, test_size=0.1, random_state=42)\n",
    "encoder = LabelEncoder()\n",
    "y_train_encoded = encoder.fit_transform(y_train)\n",
    "\n",
    "best_model = None\n",
    "max_f1 = 0\n",
    "for clf_name, clf in classifiers:\n",
    "\n",
    "    pipeline = Pipeline([\n",
    "        ('concat', ColumnConcatenator(columns=['title', 'h1','description','h2'])),\n",
    "        ('vect', CountVectorizer(tokenizer=tokenizer, preprocessor=preprocessor,\n",
    "                                analyzer='word', ngram_range=(1, 2),\n",
    "                                min_df=5, lowercase=False)),\n",
    "        ('tfidf', TfidfTransformer(sublinear_tf=True)),\n",
    "        ('clf', clf) \n",
    "    ])\n",
    "    model = pipeline.fit(X_train, y_train)\n",
    "    y_pred = model.predict(X_test)\n",
    "    f1 = f1_score(y_test, y_pred, average='weighted')\n",
    "    if f1> max_f1:\n",
    "        best_model = model\n",
    "    print(f\"Classifier: {clf_name}\")\n",
    "    print(f\"F1 Score: {f1:.4f}\")\n",
    "    print()"
   ]
  },
  {
   "cell_type": "code",
   "execution_count": 16,
   "metadata": {},
   "outputs": [
    {
     "data": {
      "text/html": [
       "<style>#sk-container-id-1 {color: black;background-color: white;}#sk-container-id-1 pre{padding: 0;}#sk-container-id-1 div.sk-toggleable {background-color: white;}#sk-container-id-1 label.sk-toggleable__label {cursor: pointer;display: block;width: 100%;margin-bottom: 0;padding: 0.3em;box-sizing: border-box;text-align: center;}#sk-container-id-1 label.sk-toggleable__label-arrow:before {content: \"▸\";float: left;margin-right: 0.25em;color: #696969;}#sk-container-id-1 label.sk-toggleable__label-arrow:hover:before {color: black;}#sk-container-id-1 div.sk-estimator:hover label.sk-toggleable__label-arrow:before {color: black;}#sk-container-id-1 div.sk-toggleable__content {max-height: 0;max-width: 0;overflow: hidden;text-align: left;background-color: #f0f8ff;}#sk-container-id-1 div.sk-toggleable__content pre {margin: 0.2em;color: black;border-radius: 0.25em;background-color: #f0f8ff;}#sk-container-id-1 input.sk-toggleable__control:checked~div.sk-toggleable__content {max-height: 200px;max-width: 100%;overflow: auto;}#sk-container-id-1 input.sk-toggleable__control:checked~label.sk-toggleable__label-arrow:before {content: \"▾\";}#sk-container-id-1 div.sk-estimator input.sk-toggleable__control:checked~label.sk-toggleable__label {background-color: #d4ebff;}#sk-container-id-1 div.sk-label input.sk-toggleable__control:checked~label.sk-toggleable__label {background-color: #d4ebff;}#sk-container-id-1 input.sk-hidden--visually {border: 0;clip: rect(1px 1px 1px 1px);clip: rect(1px, 1px, 1px, 1px);height: 1px;margin: -1px;overflow: hidden;padding: 0;position: absolute;width: 1px;}#sk-container-id-1 div.sk-estimator {font-family: monospace;background-color: #f0f8ff;border: 1px dotted black;border-radius: 0.25em;box-sizing: border-box;margin-bottom: 0.5em;}#sk-container-id-1 div.sk-estimator:hover {background-color: #d4ebff;}#sk-container-id-1 div.sk-parallel-item::after {content: \"\";width: 100%;border-bottom: 1px solid gray;flex-grow: 1;}#sk-container-id-1 div.sk-label:hover label.sk-toggleable__label {background-color: #d4ebff;}#sk-container-id-1 div.sk-serial::before {content: \"\";position: absolute;border-left: 1px solid gray;box-sizing: border-box;top: 0;bottom: 0;left: 50%;z-index: 0;}#sk-container-id-1 div.sk-serial {display: flex;flex-direction: column;align-items: center;background-color: white;padding-right: 0.2em;padding-left: 0.2em;position: relative;}#sk-container-id-1 div.sk-item {position: relative;z-index: 1;}#sk-container-id-1 div.sk-parallel {display: flex;align-items: stretch;justify-content: center;background-color: white;position: relative;}#sk-container-id-1 div.sk-item::before, #sk-container-id-1 div.sk-parallel-item::before {content: \"\";position: absolute;border-left: 1px solid gray;box-sizing: border-box;top: 0;bottom: 0;left: 50%;z-index: -1;}#sk-container-id-1 div.sk-parallel-item {display: flex;flex-direction: column;z-index: 1;position: relative;background-color: white;}#sk-container-id-1 div.sk-parallel-item:first-child::after {align-self: flex-end;width: 50%;}#sk-container-id-1 div.sk-parallel-item:last-child::after {align-self: flex-start;width: 50%;}#sk-container-id-1 div.sk-parallel-item:only-child::after {width: 0;}#sk-container-id-1 div.sk-dashed-wrapped {border: 1px dashed gray;margin: 0 0.4em 0.5em 0.4em;box-sizing: border-box;padding-bottom: 0.4em;background-color: white;}#sk-container-id-1 div.sk-label label {font-family: monospace;font-weight: bold;display: inline-block;line-height: 1.2em;}#sk-container-id-1 div.sk-label-container {text-align: center;}#sk-container-id-1 div.sk-container {/* jupyter's `normalize.less` sets `[hidden] { display: none; }` but bootstrap.min.css set `[hidden] { display: none !important; }` so we also need the `!important` here to be able to override the default hidden behavior on the sphinx rendered scikit-learn.org. See: https://github.com/scikit-learn/scikit-learn/issues/21755 */display: inline-block !important;position: relative;}#sk-container-id-1 div.sk-text-repr-fallback {display: none;}</style><div id=\"sk-container-id-1\" class=\"sk-top-container\"><div class=\"sk-text-repr-fallback\"><pre>Pipeline(steps=[(&#x27;concat&#x27;,\n",
       "                 ColumnConcatenator(columns=[&#x27;title&#x27;, &#x27;h1&#x27;, &#x27;description&#x27;,\n",
       "                                             &#x27;h2&#x27;])),\n",
       "                (&#x27;vect&#x27;,\n",
       "                 CountVectorizer(lowercase=False, min_df=5, ngram_range=(1, 2),\n",
       "                                 preprocessor=&lt;function preprocessor at 0x0000013238807430&gt;,\n",
       "                                 tokenizer=&lt;function tokenizer at 0x00000132387773A0&gt;)),\n",
       "                (&#x27;tfidf&#x27;, TfidfTransformer(sublinear_tf=True)),\n",
       "                (&#x27;clf&#x27;, MLPClassifier(max_iter=500))])</pre><b>In a Jupyter environment, please rerun this cell to show the HTML representation or trust the notebook. <br />On GitHub, the HTML representation is unable to render, please try loading this page with nbviewer.org.</b></div><div class=\"sk-container\" hidden><div class=\"sk-item sk-dashed-wrapped\"><div class=\"sk-label-container\"><div class=\"sk-label sk-toggleable\"><input class=\"sk-toggleable__control sk-hidden--visually\" id=\"sk-estimator-id-1\" type=\"checkbox\" ><label for=\"sk-estimator-id-1\" class=\"sk-toggleable__label sk-toggleable__label-arrow\">Pipeline</label><div class=\"sk-toggleable__content\"><pre>Pipeline(steps=[(&#x27;concat&#x27;,\n",
       "                 ColumnConcatenator(columns=[&#x27;title&#x27;, &#x27;h1&#x27;, &#x27;description&#x27;,\n",
       "                                             &#x27;h2&#x27;])),\n",
       "                (&#x27;vect&#x27;,\n",
       "                 CountVectorizer(lowercase=False, min_df=5, ngram_range=(1, 2),\n",
       "                                 preprocessor=&lt;function preprocessor at 0x0000013238807430&gt;,\n",
       "                                 tokenizer=&lt;function tokenizer at 0x00000132387773A0&gt;)),\n",
       "                (&#x27;tfidf&#x27;, TfidfTransformer(sublinear_tf=True)),\n",
       "                (&#x27;clf&#x27;, MLPClassifier(max_iter=500))])</pre></div></div></div><div class=\"sk-serial\"><div class=\"sk-item\"><div class=\"sk-estimator sk-toggleable\"><input class=\"sk-toggleable__control sk-hidden--visually\" id=\"sk-estimator-id-2\" type=\"checkbox\" ><label for=\"sk-estimator-id-2\" class=\"sk-toggleable__label sk-toggleable__label-arrow\">ColumnConcatenator</label><div class=\"sk-toggleable__content\"><pre>ColumnConcatenator(columns=[&#x27;title&#x27;, &#x27;h1&#x27;, &#x27;description&#x27;, &#x27;h2&#x27;])</pre></div></div></div><div class=\"sk-item\"><div class=\"sk-estimator sk-toggleable\"><input class=\"sk-toggleable__control sk-hidden--visually\" id=\"sk-estimator-id-3\" type=\"checkbox\" ><label for=\"sk-estimator-id-3\" class=\"sk-toggleable__label sk-toggleable__label-arrow\">CountVectorizer</label><div class=\"sk-toggleable__content\"><pre>CountVectorizer(lowercase=False, min_df=5, ngram_range=(1, 2),\n",
       "                preprocessor=&lt;function preprocessor at 0x0000013238807430&gt;,\n",
       "                tokenizer=&lt;function tokenizer at 0x00000132387773A0&gt;)</pre></div></div></div><div class=\"sk-item\"><div class=\"sk-estimator sk-toggleable\"><input class=\"sk-toggleable__control sk-hidden--visually\" id=\"sk-estimator-id-4\" type=\"checkbox\" ><label for=\"sk-estimator-id-4\" class=\"sk-toggleable__label sk-toggleable__label-arrow\">TfidfTransformer</label><div class=\"sk-toggleable__content\"><pre>TfidfTransformer(sublinear_tf=True)</pre></div></div></div><div class=\"sk-item\"><div class=\"sk-estimator sk-toggleable\"><input class=\"sk-toggleable__control sk-hidden--visually\" id=\"sk-estimator-id-5\" type=\"checkbox\" ><label for=\"sk-estimator-id-5\" class=\"sk-toggleable__label sk-toggleable__label-arrow\">MLPClassifier</label><div class=\"sk-toggleable__content\"><pre>MLPClassifier(max_iter=500)</pre></div></div></div></div></div></div></div>"
      ],
      "text/plain": [
       "Pipeline(steps=[('concat',\n",
       "                 ColumnConcatenator(columns=['title', 'h1', 'description',\n",
       "                                             'h2'])),\n",
       "                ('vect',\n",
       "                 CountVectorizer(lowercase=False, min_df=5, ngram_range=(1, 2),\n",
       "                                 preprocessor=<function preprocessor at 0x0000013238807430>,\n",
       "                                 tokenizer=<function tokenizer at 0x00000132387773A0>)),\n",
       "                ('tfidf', TfidfTransformer(sublinear_tf=True)),\n",
       "                ('clf', MLPClassifier(max_iter=500))])"
      ]
     },
     "execution_count": 16,
     "metadata": {},
     "output_type": "execute_result"
    }
   ],
   "source": [
    "best_model"
   ]
  },
  {
   "cell_type": "markdown",
   "metadata": {},
   "source": [
    "<h1  style=\"line-height:200%;font-family:vazir;color:#0099cc\">\n",
    "<font face=\"arial\" color=\"#0099cc\">\n",
    "MLPClassifier provides us with very high accuracy.\n",
    "</font>\n",
    "</h1>"
   ]
  },
  {
   "cell_type": "code",
   "execution_count": 17,
   "metadata": {},
   "outputs": [
    {
     "name": "stdout",
     "output_type": "stream",
     "text": [
      "train F1-score: 0.9981904761869375\n",
      "test F1-score: 0.9693200399865424\n"
     ]
    }
   ],
   "source": [
    "predictions_train = best_model.predict(X_train)\n",
    "print('train F1-score:', f1_score(y_train, predictions_train, average='weighted'))\n",
    "predictions_test = best_model.predict(X_test)\n",
    "print('test F1-score:', f1_score(y_test, predictions_test, average='weighted'))"
   ]
  },
  {
   "cell_type": "markdown",
   "metadata": {},
   "source": [
    "<h1 align=center style=\"line-height:200%;font-family:vazir;color:#0099cc\">\n",
    "<font face=\"arial\" color=\"#0099cc\">\n",
    "Thank you for your attention\n",
    "</font>\n",
    "</h1>"
   ]
  }
 ],
 "metadata": {
  "kernelspec": {
   "display_name": "Python 3.8.15 ('college')",
   "language": "python",
   "name": "python3"
  },
  "language_info": {
   "codemirror_mode": {
    "name": "ipython",
    "version": 3
   },
   "file_extension": ".py",
   "mimetype": "text/x-python",
   "name": "python",
   "nbconvert_exporter": "python",
   "pygments_lexer": "ipython3",
   "version": "3.9.0"
  },
  "orig_nbformat": 4,
  "vscode": {
   "interpreter": {
    "hash": "b25290d91e68666390a3f16911fef54d65a01c351d921450f79ed6c4a91d0756"
   }
  }
 },
 "nbformat": 4,
 "nbformat_minor": 2
}
